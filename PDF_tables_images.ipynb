{
  "nbformat": 4,
  "nbformat_minor": 0,
  "metadata": {
    "colab": {
      "provenance": [],
      "gpuType": "T4"
    },
    "kernelspec": {
      "name": "python3",
      "display_name": "Python 3"
    },
    "language_info": {
      "name": "python"
    },
    "accelerator": "GPU"
  },
  "cells": [
    {
      "cell_type": "code",
      "execution_count": 1,
      "metadata": {
        "colab": {
          "base_uri": "https://localhost:8080/"
        },
        "id": "FHAWx4Fsyoqb",
        "outputId": "6229c87f-8252-4714-fd13-5ef59873c5af"
      },
      "outputs": [
        {
          "output_type": "stream",
          "name": "stdout",
          "text": [
            "Requirement already satisfied: PyPDF2 in /usr/local/lib/python3.10/dist-packages (3.0.1)\n"
          ]
        }
      ],
      "source": [
        "#To read the PDF file from the repository path.\n",
        "!pip install PyPDF2"
      ]
    },
    {
      "cell_type": "code",
      "source": [
        "#To perform the layout analysis and extract text and format from the PDF. (the .six version of the library is the one that supports Python 3)\n",
        "!pip install pdfminer.six"
      ],
      "metadata": {
        "colab": {
          "base_uri": "https://localhost:8080/"
        },
        "id": "lMnrqTTjy7Wv",
        "outputId": "6723ba8f-1402-422d-e4ee-5bef79a555ea"
      },
      "execution_count": 2,
      "outputs": [
        {
          "output_type": "stream",
          "name": "stdout",
          "text": [
            "Requirement already satisfied: pdfminer.six in /usr/local/lib/python3.10/dist-packages (20221105)\n",
            "Requirement already satisfied: charset-normalizer>=2.0.0 in /usr/local/lib/python3.10/dist-packages (from pdfminer.six) (3.3.2)\n",
            "Requirement already satisfied: cryptography>=36.0.0 in /usr/local/lib/python3.10/dist-packages (from pdfminer.six) (41.0.7)\n",
            "Requirement already satisfied: cffi>=1.12 in /usr/local/lib/python3.10/dist-packages (from cryptography>=36.0.0->pdfminer.six) (1.16.0)\n",
            "Requirement already satisfied: pycparser in /usr/local/lib/python3.10/dist-packages (from cffi>=1.12->cryptography>=36.0.0->pdfminer.six) (2.21)\n"
          ]
        }
      ]
    },
    {
      "cell_type": "code",
      "source": [
        "# To identify tables in a PDF page and extract the information from them\n",
        "!pip install pdfplumber"
      ],
      "metadata": {
        "colab": {
          "base_uri": "https://localhost:8080/"
        },
        "id": "LJtRZjnBzC5w",
        "outputId": "9562d893-e08c-4628-fb89-54dbfb09c1c8"
      },
      "execution_count": 3,
      "outputs": [
        {
          "output_type": "stream",
          "name": "stdout",
          "text": [
            "Requirement already satisfied: pdfplumber in /usr/local/lib/python3.10/dist-packages (0.10.3)\n",
            "Requirement already satisfied: pdfminer.six==20221105 in /usr/local/lib/python3.10/dist-packages (from pdfplumber) (20221105)\n",
            "Requirement already satisfied: Pillow>=9.1 in /usr/local/lib/python3.10/dist-packages (from pdfplumber) (9.4.0)\n",
            "Requirement already satisfied: pypdfium2>=4.18.0 in /usr/local/lib/python3.10/dist-packages (from pdfplumber) (4.25.0)\n",
            "Requirement already satisfied: charset-normalizer>=2.0.0 in /usr/local/lib/python3.10/dist-packages (from pdfminer.six==20221105->pdfplumber) (3.3.2)\n",
            "Requirement already satisfied: cryptography>=36.0.0 in /usr/local/lib/python3.10/dist-packages (from pdfminer.six==20221105->pdfplumber) (41.0.7)\n",
            "Requirement already satisfied: cffi>=1.12 in /usr/local/lib/python3.10/dist-packages (from cryptography>=36.0.0->pdfminer.six==20221105->pdfplumber) (1.16.0)\n",
            "Requirement already satisfied: pycparser in /usr/local/lib/python3.10/dist-packages (from cffi>=1.12->cryptography>=36.0.0->pdfminer.six==20221105->pdfplumber) (2.21)\n"
          ]
        }
      ]
    },
    {
      "cell_type": "markdown",
      "source": [
        "##  For pdf2image install dependency poppler from  https://github.com/oschwartz10612/poppler-windows/releases/ and Download Release-21.11.0-0.zip and ass to system path variable"
      ],
      "metadata": {
        "id": "pjCITxVpAizG"
      }
    },
    {
      "cell_type": "code",
      "source": [
        "!apt-get install poppler-utils"
      ],
      "metadata": {
        "colab": {
          "base_uri": "https://localhost:8080/"
        },
        "id": "AfgsIGYWvblx",
        "outputId": "ac33920f-3df4-42b1-aff6-0d6ec7cc2b69"
      },
      "execution_count": 4,
      "outputs": [
        {
          "output_type": "stream",
          "name": "stdout",
          "text": [
            "Reading package lists... Done\n",
            "Building dependency tree... Done\n",
            "Reading state information... Done\n",
            "poppler-utils is already the newest version (22.02.0-2ubuntu0.3).\n",
            "0 upgraded, 0 newly installed, 0 to remove and 24 not upgraded.\n"
          ]
        }
      ]
    },
    {
      "cell_type": "code",
      "source": [
        "#To convert the cropped PDF image to a PNG image\n",
        "!pip install pdf2image"
      ],
      "metadata": {
        "colab": {
          "base_uri": "https://localhost:8080/"
        },
        "id": "uqkw2BI_zMi4",
        "outputId": "f967b7e1-db98-4e47-dee5-35f4d6347521"
      },
      "execution_count": 5,
      "outputs": [
        {
          "output_type": "stream",
          "name": "stdout",
          "text": [
            "Requirement already satisfied: pdf2image in /usr/local/lib/python3.10/dist-packages (1.16.3)\n",
            "Requirement already satisfied: pillow in /usr/local/lib/python3.10/dist-packages (from pdf2image) (9.4.0)\n"
          ]
        }
      ]
    },
    {
      "cell_type": "code",
      "source": [
        "# To read the PNG image\n",
        "!pip install Pillow"
      ],
      "metadata": {
        "colab": {
          "base_uri": "https://localhost:8080/"
        },
        "id": "4pb3gaV51ExV",
        "outputId": "f82b8293-5cfb-454e-f6d7-9cfd402edf1f"
      },
      "execution_count": 6,
      "outputs": [
        {
          "output_type": "stream",
          "name": "stdout",
          "text": [
            "Requirement already satisfied: Pillow in /usr/local/lib/python3.10/dist-packages (9.4.0)\n"
          ]
        }
      ]
    },
    {
      "cell_type": "markdown",
      "source": [
        "# Install Google Tesseract OCR, which is an OCR machine based on an LSTM model to identify line recognition and character patterns.Use the link https://github.com/UB-Mannheim/tesseract/wiki to download the installer and install.Add to system path variable"
      ],
      "metadata": {
        "id": "SCjtAoR-Bn6C"
      }
    },
    {
      "cell_type": "code",
      "source": [
        "!apt-get install tesseract-ocr"
      ],
      "metadata": {
        "colab": {
          "base_uri": "https://localhost:8080/"
        },
        "id": "XnoQXefnwSWK",
        "outputId": "5bbdef43-d402-4b6f-a15c-bb0f4218c1ea"
      },
      "execution_count": 7,
      "outputs": [
        {
          "output_type": "stream",
          "name": "stdout",
          "text": [
            "Reading package lists... Done\n",
            "Building dependency tree... Done\n",
            "Reading state information... Done\n",
            "tesseract-ocr is already the newest version (4.1.1-2.1build1).\n",
            "0 upgraded, 0 newly installed, 0 to remove and 24 not upgraded.\n"
          ]
        }
      ]
    },
    {
      "cell_type": "code",
      "source": [
        "#To extract the text from the images using OCR technology\n",
        "!pip install pytesseract"
      ],
      "metadata": {
        "colab": {
          "base_uri": "https://localhost:8080/"
        },
        "id": "mELTBGYp1E0b",
        "outputId": "1b65e6b9-ca28-465f-dcb8-5b08b5a05cd0"
      },
      "execution_count": 8,
      "outputs": [
        {
          "output_type": "stream",
          "name": "stdout",
          "text": [
            "Requirement already satisfied: pytesseract in /usr/local/lib/python3.10/dist-packages (0.3.10)\n",
            "Requirement already satisfied: packaging>=21.3 in /usr/local/lib/python3.10/dist-packages (from pytesseract) (23.2)\n",
            "Requirement already satisfied: Pillow>=8.0.0 in /usr/local/lib/python3.10/dist-packages (from pytesseract) (9.4.0)\n"
          ]
        }
      ]
    },
    {
      "cell_type": "markdown",
      "source": [
        "## Import all required libraries"
      ],
      "metadata": {
        "id": "wchX83sW3c-r"
      }
    },
    {
      "cell_type": "code",
      "source": [
        "# To read the PDF\n",
        "import PyPDF2\n",
        "# To analyze the PDF layout and extract text\n",
        "from pdfminer.high_level import extract_pages, extract_text\n",
        "from pdfminer.layout import LTTextContainer, LTChar, LTRect, LTFigure\n",
        "# To extract text from tables in PDF\n",
        "import pdfplumber\n",
        "# To extract the images from the PDFs\n",
        "from PIL import Image\n",
        "from pdf2image import convert_from_path\n",
        "# To perform OCR to extract text from images\n",
        "import pytesseract\n",
        "# To remove the additional created files\n",
        "import os"
      ],
      "metadata": {
        "id": "zwUMuuxf1E3Z"
      },
      "execution_count": 9,
      "outputs": []
    },
    {
      "cell_type": "markdown",
      "source": [
        "## Document’s Layout Analysis with Python"
      ],
      "metadata": {
        "id": "5gn3zGe43nmw"
      }
    },
    {
      "cell_type": "code",
      "source": [
        "# Find the PDF path\n",
        "pdf_path = '/content/220929_Chinese_Academy_of_Sciences.pdf'\n",
        "\n",
        "# create a PDF file object\n",
        "pdfFileObj = open(pdf_path, 'rb')\n",
        "# create a PDF reader object\n",
        "pdfReader = PyPDF2.PdfReader(pdfFileObj)"
      ],
      "metadata": {
        "id": "BLwvnOAR6C9Y"
      },
      "execution_count": 10,
      "outputs": []
    },
    {
      "cell_type": "markdown",
      "source": [
        "# Use PDFMiner Python library to separate the text from a document object into multiple page objects and then break down and examine the layout of each page. For this  the library first separates the individual pages from the PDF file using the function extract_pages() and converts them into LTPage objects\n",
        "### For each LTPage object, it iterates from each element from top to bottom and tries to identify the appropriate component as\n",
        "### LTFigure, which contains the images or figures of the page\n",
        "### LTTextContainer, which represents the textual information of the page\n",
        "### LTRect, which will be a strong indication of the presence of a table\n",
        "### Create the dictionary to extract text from each image"
      ],
      "metadata": {
        "id": "lv_8_7lF6UsY"
      }
    },
    {
      "cell_type": "code",
      "source": [
        "# Create a function to crop the image elements from PDFs\n",
        "def crop_image(element, pageObj):\n",
        "    # Get the coordinates to crop the image from the PDF\n",
        "    [image_left, image_top, image_right, image_bottom] = [element.x0,element.y0,element.x1,element.y1]\n",
        "    # Crop the page using coordinates (left, bottom, right, top)\n",
        "    pageObj.mediabox.lower_left = (image_left, image_bottom)\n",
        "    pageObj.mediabox.upper_right = (image_right, image_top)\n",
        "    # Save the cropped page to a new PDF\n",
        "    cropped_pdf_writer = PyPDF2.PdfWriter()\n",
        "    cropped_pdf_writer.add_page(pageObj)\n",
        "    # Save the cropped PDF to a new file\n",
        "    with open('cropped_image.pdf', 'wb') as cropped_pdf_file:\n",
        "        cropped_pdf_writer.write(cropped_pdf_file)\n",
        "\n",
        "# Create a function to convert the PDF to images\n",
        "def convert_to_images(input_file,):\n",
        "    images = convert_from_path(input_file)\n",
        "    image = images[0]\n",
        "    output_file = \"PDF_image.png\"\n",
        "    image.save(output_file, \"PNG\")\n",
        "\n",
        "# Create a function to read text from images\n",
        "def image_to_text(image_path):\n",
        "    # Read the image\n",
        "    img = Image.open(image_path)\n",
        "    # Extract the text from the image\n",
        "    text = pytesseract.image_to_string(img)\n",
        "    return text"
      ],
      "metadata": {
        "id": "jI4ZYC8e--jR"
      },
      "execution_count": 11,
      "outputs": []
    },
    {
      "cell_type": "code",
      "source": [
        "# Extracting tables from the page\n",
        "def extract_table(pdf_path, page_num, table_num):\n",
        "    # Open the pdf file\n",
        "    pdf = pdfplumber.open(pdf_path)\n",
        "    # Find the examined page\n",
        "    table_page = pdf.pages[page_num]\n",
        "    # Extract the appropriate table\n",
        "    table = table_page.extract_tables()[table_num]\n",
        "    return table\n",
        "\n",
        "# Convert table into the appropriate format\n",
        "def table_converter(table):\n",
        "    table_string = ''\n",
        "    # Iterate through each row of the table\n",
        "    for row_num in range(len(table)):\n",
        "        row = table[row_num]\n",
        "        # Remove the line breaker from the wrapped texts\n",
        "        cleaned_row = [item.replace('\\n', ' ') if item is not None and '\\n' in item else 'None' if item is None else item for item in row]\n",
        "        # Convert the table into a string\n",
        "        table_string+=('|'+'|'.join(cleaned_row)+'|'+'\\n')\n",
        "    # Removing the last line break\n",
        "    table_string = table_string[:-1]\n",
        "    return table_string"
      ],
      "metadata": {
        "id": "lvbZy2iH_CNc"
      },
      "execution_count": 12,
      "outputs": []
    },
    {
      "cell_type": "code",
      "source": [
        "# Create a function to extract text\n",
        "\n",
        "def text_extraction(element):\n",
        "    # Extracting the text from the in-line text element\n",
        "    line_text = element.get_text()\n",
        "\n",
        "    # Find the formats of the text\n",
        "    # Initialize the list with all the formats that appeared in the line of text\n",
        "    line_formats = []\n",
        "    for text_line in element:\n",
        "        if isinstance(text_line, LTTextContainer):\n",
        "            # Iterating through each character in the line of text\n",
        "            for character in text_line:\n",
        "                if isinstance(character, LTChar):\n",
        "                    # Append the font name of the character\n",
        "                    line_formats.append(character.fontname)\n",
        "                    # Append the font size of the character\n",
        "                    line_formats.append(character.size)\n",
        "    # Find the unique font sizes and names in the line\n",
        "    format_per_line = list(set(line_formats))\n",
        "\n",
        "    # Return a tuple with the text in each line along with its format\n",
        "    return (line_text, format_per_line)"
      ],
      "metadata": {
        "id": "hZ-begf6_dts"
      },
      "execution_count": 13,
      "outputs": []
    },
    {
      "cell_type": "code",
      "source": [
        "text_per_page = {}\n",
        "# We extract the pages from the PDF\n",
        "for pagenum, page in enumerate(extract_pages(pdf_path)):\n",
        "\n",
        "    # Initialize the variables needed for the text extraction from the page\n",
        "    pageObj = pdfReader.pages[pagenum]\n",
        "    page_text = []\n",
        "    line_format = []\n",
        "    text_from_images = []\n",
        "    text_from_tables = []\n",
        "    page_content = []\n",
        "    # Initialize the number of the examined tables\n",
        "    table_num = 0\n",
        "    first_element= True\n",
        "    table_extraction_flag= False\n",
        "    # Open the pdf file\n",
        "    pdf = pdfplumber.open(pdf_path)\n",
        "    # Find the examined page\n",
        "    page_tables = pdf.pages[pagenum]\n",
        "    # Find the number of tables on the page\n",
        "    tables = page_tables.find_tables()\n",
        "\n",
        "\n",
        "    # Find all the elements\n",
        "    page_elements = [(element.y1, element) for element in page._objs]\n",
        "    # Sort all the elements as they appear in the page\n",
        "    page_elements.sort(key=lambda a: a[0], reverse=True)\n",
        "\n",
        "    # Find the elements that composed a page\n",
        "    for i,component in enumerate(page_elements):\n",
        "        # Extract the position of the top side of the element in the PDF\n",
        "        pos= component[0]\n",
        "        # Extract the element of the page layout\n",
        "        element = component[1]\n",
        "\n",
        "        # Check if the element is a text element\n",
        "        if isinstance(element, LTTextContainer):\n",
        "            # Check if the text appeared in a table\n",
        "            if table_extraction_flag == False:\n",
        "                # Use the function to extract the text and format for each text element\n",
        "                (line_text, format_per_line) = text_extraction(element)\n",
        "                # Append the text of each line to the page text\n",
        "                page_text.append(line_text)\n",
        "                # Append the format for each line containing text\n",
        "                line_format.append(format_per_line)\n",
        "                page_content.append(line_text)\n",
        "            else:\n",
        "                # Omit the text that appeared in a table\n",
        "                pass\n",
        "\n",
        "        # Check the elements for images\n",
        "        if isinstance(element, LTFigure):\n",
        "            # Crop the image from the PDF\n",
        "            crop_image(element, pageObj)\n",
        "            # Convert the cropped pdf to an image\n",
        "            convert_to_images('cropped_image.pdf')\n",
        "            # Extract the text from the image\n",
        "            image_text = image_to_text('PDF_image.png')\n",
        "            text_from_images.append(image_text)\n",
        "            page_content.append(image_text)\n",
        "            # Add a placeholder in the text and format lists\n",
        "            page_text.append('image')\n",
        "            line_format.append('image')\n",
        "\n",
        "        # Check the elements for tables\n",
        "        if isinstance(element, LTRect):\n",
        "            # If the first rectangular element\n",
        "            if first_element == True and (table_num+1) <= len(tables):\n",
        "                # Find the bounding box of the table\n",
        "                lower_side = page.bbox[3] - tables[table_num].bbox[3]\n",
        "                upper_side = element.y1\n",
        "                # Extract the information from the table\n",
        "                table = extract_table(pdf_path, pagenum, table_num)\n",
        "                # Convert the table information in structured string format\n",
        "                table_string = table_converter(table)\n",
        "                # Append the table string into a list\n",
        "                text_from_tables.append(table_string)\n",
        "                page_content.append(table_string)\n",
        "                # Set the flag as True to avoid the content again\n",
        "                table_extraction_flag = True\n",
        "                # Make it another element\n",
        "                first_element = False\n",
        "                # Add a placeholder in the text and format lists\n",
        "                page_text.append('table')\n",
        "                line_format.append('table')\n",
        "\n",
        "                # Check if we already extracted the tables from the page\n",
        "                if element.y0 >= lower_side and element.y1 <= upper_side:\n",
        "                    pass\n",
        "                elif not isinstance(page_elements[i+1][1], LTRect):\n",
        "                    table_extraction_flag = False\n",
        "                    first_element = True\n",
        "                    table_num+=1\n",
        "\n",
        "\n",
        "    # Create the key of the dictionary\n",
        "    dctkey = 'Page_'+str(pagenum)\n",
        "    # Add the list of list as the value of the page key\n",
        "    text_per_page[dctkey]= [page_text, line_format, text_from_images,text_from_tables, page_content]\n",
        "\n",
        "# Closing the pdf file object\n",
        "pdfFileObj.close()\n",
        "\n",
        "# Deleting the additional files created\n",
        "os.remove('cropped_image.pdf')\n",
        "os.remove('PDF_image.png')\n",
        "\n",
        "# Display the content of the page\n",
        "result = ''.join(text_per_page['Page_0'][4])\n",
        "print(result)"
      ],
      "metadata": {
        "colab": {
          "base_uri": "https://localhost:8080/"
        },
        "id": "QYlzZuZ-1E84",
        "outputId": "2755117a-1b41-41d6-9fbe-7fd629ac083d"
      },
      "execution_count": 15,
      "outputs": [
        {
          "output_type": "stream",
          "name": "stdout",
          "text": [
            "\fINTERNATIONAL RESEARCH CENTER OF BIG DATA\n",
            "FOR SUSTAINABLE DEVELOPMENT GOALS\n",
            "\n",
            "DRRARRAREEDAR AD\n",
            "\n",
            " \n",
            "\n",
            "A Community-Driven Framework for\n",
            "Digital Public Goods for SDGs\n",
            "\n",
            " \n",
            "\n",
            "A report prepared by \\\\\n",
            "International Research Center of Big Data for\n",
            "Sustainable Development Goals (CBAS)\n",
            "as input for the Global Digital Compact\n",
            "\n",
            "September 26\", 2022\n",
            "\f3\n",
            "\n"
          ]
        }
      ]
    },
    {
      "cell_type": "code",
      "source": [
        "text_per_page"
      ],
      "metadata": {
        "id": "fQv5FmVQ1FAa",
        "colab": {
          "base_uri": "https://localhost:8080/"
        },
        "outputId": "f8edbf32-5ddc-4da4-a4c1-9ecdbe89bb0f"
      },
      "execution_count": 16,
      "outputs": [
        {
          "output_type": "execute_result",
          "data": {
            "text/plain": [
              "{'Page_0': [['image', 'image', '3\\n'],\n",
              "  ['image', 'image', ['EMYDSP+TimesNewRomanPS-BoldMT', 12.0]],\n",
              "  ['\\x0c',\n",
              "   'INTERNATIONAL RESEARCH CENTER OF BIG DATA\\nFOR SUSTAINABLE DEVELOPMENT GOALS\\n\\nDRRARRAREEDAR AD\\n\\n \\n\\nA Community-Driven Framework for\\nDigital Public Goods for SDGs\\n\\n \\n\\nA report prepared by \\\\\\\\\\nInternational Research Center of Big Data for\\nSustainable Development Goals (CBAS)\\nas input for the Global Digital Compact\\n\\nSeptember 26\", 2022\\n\\x0c'],\n",
              "  [],\n",
              "  ['\\x0c',\n",
              "   'INTERNATIONAL RESEARCH CENTER OF BIG DATA\\nFOR SUSTAINABLE DEVELOPMENT GOALS\\n\\nDRRARRAREEDAR AD\\n\\n \\n\\nA Community-Driven Framework for\\nDigital Public Goods for SDGs\\n\\n \\n\\nA report prepared by \\\\\\\\\\nInternational Research Center of Big Data for\\nSustainable Development Goals (CBAS)\\nas input for the Global Digital Compact\\n\\nSeptember 26\", 2022\\n\\x0c',\n",
              "   '3\\n']],\n",
              " 'Page_1': [['image',\n",
              "   'About CBAS\\n',\n",
              "   'image',\n",
              "   \"The International Research Center of Big Data for Sustainable \\nDevelopment Goals (CBAS), founded in 2021, was established \\nin  response  to  the  call  by  Chinese  President  Xi  Jinping  at \\nthe  75th  UN  General Assembly  to  utilize  science,  data, \\ntechnology, and innovation to facilitate global progress towards \\nsustainable development. Following the UN Secretary General's \\ncongratulatory  remark  at  CBAS'  inauguration  to  utilize  big \\ndata to address global challenges, CBAS is therefore working \\nto  establish  big  data  ecosystems  with  a  particular  focus  on \\nBig Earth Data. The vision of CBAS is to provide a range of \\nservices essential for addressing the most challenging problems \\nfacing sustainable development, such as lack of data and technological barriers to the implementation of the SDGs, \\nthrough methods like data sharing, technological solutions, decision-making support, as well as capacity building \\nfor developing countries. Towards this end CBAS is working to develop data infrastructure and information and \\ndata products; to create new knowledge for SDG monitoring and evaluation; to develop and launch a series of SDG \\nsatellites; to provide policy and advisory services through an SDG Think Tank; and to improve global capacity for \\nSDGs in developing countries.\\n\",\n",
              "   'Lead Author:\\n',\n",
              "   'GUO Huadong\\nAcademician of the Chinese Academy of Sciences, Director General of CBAS\\n',\n",
              "   'Co-Authors:\\n',\n",
              "   'LIANG Dong, Zeeshan Shirazi, DENG Siming, CHEN Fang, LI Jianhui, Robert Duerler\\n',\n",
              "   'Contact:\\n',\n",
              "   'Cooperation & Development Division, CBAS\\nNo. 9 Dengzhuang South Road,\\nHaidian District, Beijing 10094, China\\nEmail: cooperation@cbas.ac.cn\\nWebsite: http://www.cbas.ac.cn/en/\\n',\n",
              "   'Suggested citation: Huadong Guo, et al. (2022): A Community-Driven Framework for Digital Public Goods for SDGs, \\npublished by CBAS, Beijing China.\\n',\n",
              "   ' \\n',\n",
              "   'image',\n",
              "   'Copyright: This  work  is  licensed  under  the  Creative  Commons Attribution-Non  Commercial-Share Alike  4.0 \\nInternational License. \\n',\n",
              "   '4\\n'],\n",
              "  ['image',\n",
              "   [9.0, 'EMYDSP+TimesNewRomanPS-BoldMT'],\n",
              "   'image',\n",
              "   ['HJIQIJ+TimesNewRomanPSMT', 9.0],\n",
              "   [9.0, 'EMYDSP+TimesNewRomanPS-BoldMT'],\n",
              "   ['HJIQIJ+TimesNewRomanPSMT', 9.0],\n",
              "   [9.0, 'EMYDSP+TimesNewRomanPS-BoldMT'],\n",
              "   ['HJIQIJ+TimesNewRomanPSMT', 9.0],\n",
              "   [9.0, 'EMYDSP+TimesNewRomanPS-BoldMT'],\n",
              "   ['HJIQIJ+TimesNewRomanPSMT', 9.0],\n",
              "   ['HJIQIJ+TimesNewRomanPSMT', 9.0, 'ZFFUAZ+TimesNewRomanPS-ItalicMT'],\n",
              "   [],\n",
              "   'image',\n",
              "   ['HJIQIJ+TimesNewRomanPSMT', 9.0],\n",
              "   ['EMYDSP+TimesNewRomanPS-BoldMT', 12.0]],\n",
              "  ['\\x0c', ' \\n\\x0c', '(G3) BY-NC-SA |\\n\\x0c'],\n",
              "  [],\n",
              "  ['\\x0c',\n",
              "   'About CBAS\\n',\n",
              "   ' \\n\\x0c',\n",
              "   \"The International Research Center of Big Data for Sustainable \\nDevelopment Goals (CBAS), founded in 2021, was established \\nin  response  to  the  call  by  Chinese  President  Xi  Jinping  at \\nthe  75th  UN  General Assembly  to  utilize  science,  data, \\ntechnology, and innovation to facilitate global progress towards \\nsustainable development. Following the UN Secretary General's \\ncongratulatory  remark  at  CBAS'  inauguration  to  utilize  big \\ndata to address global challenges, CBAS is therefore working \\nto  establish  big  data  ecosystems  with  a  particular  focus  on \\nBig Earth Data. The vision of CBAS is to provide a range of \\nservices essential for addressing the most challenging problems \\nfacing sustainable development, such as lack of data and technological barriers to the implementation of the SDGs, \\nthrough methods like data sharing, technological solutions, decision-making support, as well as capacity building \\nfor developing countries. Towards this end CBAS is working to develop data infrastructure and information and \\ndata products; to create new knowledge for SDG monitoring and evaluation; to develop and launch a series of SDG \\nsatellites; to provide policy and advisory services through an SDG Think Tank; and to improve global capacity for \\nSDGs in developing countries.\\n\",\n",
              "   'Lead Author:\\n',\n",
              "   'GUO Huadong\\nAcademician of the Chinese Academy of Sciences, Director General of CBAS\\n',\n",
              "   'Co-Authors:\\n',\n",
              "   'LIANG Dong, Zeeshan Shirazi, DENG Siming, CHEN Fang, LI Jianhui, Robert Duerler\\n',\n",
              "   'Contact:\\n',\n",
              "   'Cooperation & Development Division, CBAS\\nNo. 9 Dengzhuang South Road,\\nHaidian District, Beijing 10094, China\\nEmail: cooperation@cbas.ac.cn\\nWebsite: http://www.cbas.ac.cn/en/\\n',\n",
              "   'Suggested citation: Huadong Guo, et al. (2022): A Community-Driven Framework for Digital Public Goods for SDGs, \\npublished by CBAS, Beijing China.\\n',\n",
              "   ' \\n',\n",
              "   '(G3) BY-NC-SA |\\n\\x0c',\n",
              "   'Copyright: This  work  is  licensed  under  the  Creative  Commons Attribution-Non  Commercial-Share Alike  4.0 \\nInternational License. \\n',\n",
              "   '4\\n']],\n",
              " 'Page_2': [['image',\n",
              "   'Background \\n',\n",
              "   'The rapid global digital transformation in the past two decades has revealed unique opportunities for \\nprogress and development in addressing the evident risk and challenges that we face collectively. In \\n2018, the UN Secretary-General appointed a High-Level Panel (HLP) to deliberate on the question of \\ndigital cooperation to maximize benefits and minimize their negative impacts. The HLP submitted its \\nrecommendations1 in June 2019. Following the recommendations from the HLP, the Secretary-General \\npresented his Roadmap for Digital Cooperation2 in June 2020. One of the recommendations of the HLP \\nwas to establish a platform to share digital public goods, which consequently led to the establishment of \\nthe Digital Public Goods Alliance in 2019.\\n',\n",
              "   'On the occasion of the commemoration of the 75th anniversary of the United Nations, following extensive \\nmulti-stakeholder consultations the UN Member States adopted a Declaration on the Commemoration of \\nthe Seventy-Fifth Anniversary of the United Nations (A/RES/75/1)3, which includes a pledge to improve \\nDigital Cooperation and to ensure safe and affordable digital access for all. This pledge recognizes the \\nunprecedented opportunities of digital technologies, the associated challenges, and seeks to realize their \\npotential to accelerate progress towards fulfilling the 2030 Agenda. \\n',\n",
              "   'Following  this  declaration,  the  UN  Secretary-General  released  a  report  entitled  “Our  Common \\nAgenda” 4  in  September  2021.  One  of  the  proposals  in  the  Common Agenda  is  a  Global  Digital \\nCompact5 to be finalized and agreed upon at the Summit of the Future, which will be held in September \\n2023.  The  Secretary-General  has  proposed  that  the  Compact  would  be  the  main  outcome  of  a \\nmultistakeholder technology track (involving all stakeholders: governments, the UN system, the private \\nsector, civil society, and individuals, including youths) at the 2023 Summit. The UN Secretariat is now \\ndeveloping this proposal through an inclusive preparatory process ahead of negotiations on the Compact \\nat the Summit.\\n',\n",
              "   \"1 The age of digital interdependence| Report of the UN Secretary's General High-Level Panel on Digital Cooperation \\n(https://www.un.org/en/pdfs/DigitalCooperation-report-for%20web.pdf)\\n2 Roadmap for Digital Cooperation (https://www.un.org/techenvoy/content/roadmap-digital-cooperation)\\n3 Declaration on the commemoration of the seventy-fifth anniversary of the United Nations, Agenda item 128 (a) \\n(https://documents-dds-ny.un.org/doc/UNDOC/GEN/N20/248/80/PDF/N2024880.pdf?OpenElement)\\n4 Our Common Agenda (https://www.un.org/en/common-agenda)\\n5 Global Digital Compact (https://www.un.org/techenvoy/global-digital-compact)\\n\",\n",
              "   '01\\n'],\n",
              "  ['image',\n",
              "   [17.0, 'EMYDSP+TimesNewRomanPS-BoldMT'],\n",
              "   ['HJIQIJ+TimesNewRomanPSMT', 10.0, 5.830000000000041],\n",
              "   ['HJIQIJ+TimesNewRomanPSMT',\n",
              "    5.829999999999984,\n",
              "    9.999999999999943,\n",
              "    10.0,\n",
              "    'IAZBWH+TimesNewRomanPSMT'],\n",
              "   ['IAZBWH+TimesNewRomanPSMT',\n",
              "    'HJIQIJ+TimesNewRomanPSMT',\n",
              "    10.0,\n",
              "    5.829999999999984],\n",
              "   ['HJIQIJ+TimesNewRomanPSMT',\n",
              "    5.246999999999986,\n",
              "    5.247,\n",
              "    9.0,\n",
              "    9.000000000000014,\n",
              "    'IAZBWH+TimesNewRomanPSMT'],\n",
              "   ['EMYDSP+TimesNewRomanPS-BoldMT', 12.0]],\n",
              "  ['\\x0c'],\n",
              "  [],\n",
              "  ['\\x0c',\n",
              "   'Background \\n',\n",
              "   'The rapid global digital transformation in the past two decades has revealed unique opportunities for \\nprogress and development in addressing the evident risk and challenges that we face collectively. In \\n2018, the UN Secretary-General appointed a High-Level Panel (HLP) to deliberate on the question of \\ndigital cooperation to maximize benefits and minimize their negative impacts. The HLP submitted its \\nrecommendations1 in June 2019. Following the recommendations from the HLP, the Secretary-General \\npresented his Roadmap for Digital Cooperation2 in June 2020. One of the recommendations of the HLP \\nwas to establish a platform to share digital public goods, which consequently led to the establishment of \\nthe Digital Public Goods Alliance in 2019.\\n',\n",
              "   'On the occasion of the commemoration of the 75th anniversary of the United Nations, following extensive \\nmulti-stakeholder consultations the UN Member States adopted a Declaration on the Commemoration of \\nthe Seventy-Fifth Anniversary of the United Nations (A/RES/75/1)3, which includes a pledge to improve \\nDigital Cooperation and to ensure safe and affordable digital access for all. This pledge recognizes the \\nunprecedented opportunities of digital technologies, the associated challenges, and seeks to realize their \\npotential to accelerate progress towards fulfilling the 2030 Agenda. \\n',\n",
              "   'Following  this  declaration,  the  UN  Secretary-General  released  a  report  entitled  “Our  Common \\nAgenda” 4  in  September  2021.  One  of  the  proposals  in  the  Common Agenda  is  a  Global  Digital \\nCompact5 to be finalized and agreed upon at the Summit of the Future, which will be held in September \\n2023.  The  Secretary-General  has  proposed  that  the  Compact  would  be  the  main  outcome  of  a \\nmultistakeholder technology track (involving all stakeholders: governments, the UN system, the private \\nsector, civil society, and individuals, including youths) at the 2023 Summit. The UN Secretariat is now \\ndeveloping this proposal through an inclusive preparatory process ahead of negotiations on the Compact \\nat the Summit.\\n',\n",
              "   \"1 The age of digital interdependence| Report of the UN Secretary's General High-Level Panel on Digital Cooperation \\n(https://www.un.org/en/pdfs/DigitalCooperation-report-for%20web.pdf)\\n2 Roadmap for Digital Cooperation (https://www.un.org/techenvoy/content/roadmap-digital-cooperation)\\n3 Declaration on the commemoration of the seventy-fifth anniversary of the United Nations, Agenda item 128 (a) \\n(https://documents-dds-ny.un.org/doc/UNDOC/GEN/N20/248/80/PDF/N2024880.pdf?OpenElement)\\n4 Our Common Agenda (https://www.un.org/en/common-agenda)\\n5 Global Digital Compact (https://www.un.org/techenvoy/global-digital-compact)\\n\",\n",
              "   '01\\n']],\n",
              " 'Page_3': [['image',\n",
              "   '1. Introduction\\n',\n",
              "   'The term digital public good stems from the existing concept of public goods, which are defined as goods \\nthat are accessible to all without exclusion or inhibition. With growing accessibility to digital space and \\nits integration in the daily lives of millions of people, there has been a rapid transformation improving \\ncommunication, introducing new business opportunities, facilitating existing enterprises, and improving \\naccess to information and services related to finance, investment, health care and other essential and \\nrecreational amenities. Similarly, in the past few decades open science and open-source software, data and \\nmethods have fueled innovation through data-driven science even in traditional scientific disciplines. \\n',\n",
              "   'From the beginning the UN has also emphasized the importance of science, technology and innovation \\nin achieving the 2030 Agenda for Sustainable Development, and through its Technology Facilitation \\nMechanism it is working to improve multi-stakeholder cooperation to achieve SDGs via such methods. \\nIn 2018, the  UN Secretary-General convened a High-level Panel on Digital Cooperation  to advance \\nproposals to strengthen cooperation in the digital space among governments, the private sector, civil \\nsociety, international organizations, academic institutions, the technical community and other relevant \\nstakeholders. The report by this High-level Panel recommended to promote an inclusive digital economy \\nand society, digital public goods, digital inclusion, improving digital capacity, establishing digital human \\nrights, responsible applications of AI, digital trust and security and global digital cooperation. \\n',\n",
              "   'Based on these recommendations and realizing the importance of informed policies and decision-making \\nin the implementation of the SDGs, CBAS supports the idea of digital public goods particularly within \\nthe earth science information domain. Digital public goods are generally defined as open-source software, \\nopen data, open artificial intelligence models, open standards, and open content. CBAS holds the belief \\nthat information generated on air, water, ecosystems, and biodiversity etc. are information that should \\nbe  publicly  accessible  for  awareness,  knowledge,  and  research  to  encourage  innovative  solutions  to \\nglobal and regional challenges, which are much in line with the UNEP efforts to promote environment \\ndata as digital public goods. Therefore, CBAS proposes the idea to develop a mechanism for nurturing, \\nidentifying, evaluating and standardizing new and existing digital public goods relevant to the SDG \\nindicator framework, with the aim to continually upgrade to the latest and most precise methods, models, \\ndata products and datasets to improve global SDG monitoring, to facilitate filling in existing data gaps, \\nand to create opportunities to improve global scientific and technical capacities.    \\n',\n",
              "   '   \\n',\n",
              "   '2. Digital Public Goods for SDG Indicators\\n',\n",
              "   'The  global  SDG  indicator  framework  provides  a  foundation  for  quantifying  SDG  progress  through \\nmonitoring  social,  economic,  and  environmental  dimensions,  as  well  as  a  means  to  demonstrate \\ninterdependency and interlinkages among these various dimensions of sustainability. These indicators \\nprovide  important  means  to  inform  national  scale  policies,  support  development  of  implementation \\nstrategies  and  allocation  of  resources.  Unfortunately,  the  lack  of  qualified  and  timely  datasets  and \\nmethodologies hinders optimistic expectations, particularly due to the added complexities of uneven \\n',\n",
              "   '02\\n'],\n",
              "  ['image',\n",
              "   [17.0, 'EMYDSP+TimesNewRomanPS-BoldMT'],\n",
              "   ['IAZBWH+TimesNewRomanPSMT', 'HJIQIJ+TimesNewRomanPSMT', 10.0],\n",
              "   ['HJIQIJ+TimesNewRomanPSMT', 10.0, 9.999999999999943],\n",
              "   ['IAZBWH+TimesNewRomanPSMT', 'HJIQIJ+TimesNewRomanPSMT', 10.0],\n",
              "   [],\n",
              "   [17.0, 'EMYDSP+TimesNewRomanPS-BoldMT'],\n",
              "   ['HJIQIJ+TimesNewRomanPSMT', 10.0],\n",
              "   ['EMYDSP+TimesNewRomanPS-BoldMT', 12.0]],\n",
              "  ['\\x0c'],\n",
              "  [],\n",
              "  ['\\x0c',\n",
              "   '1. Introduction\\n',\n",
              "   'The term digital public good stems from the existing concept of public goods, which are defined as goods \\nthat are accessible to all without exclusion or inhibition. With growing accessibility to digital space and \\nits integration in the daily lives of millions of people, there has been a rapid transformation improving \\ncommunication, introducing new business opportunities, facilitating existing enterprises, and improving \\naccess to information and services related to finance, investment, health care and other essential and \\nrecreational amenities. Similarly, in the past few decades open science and open-source software, data and \\nmethods have fueled innovation through data-driven science even in traditional scientific disciplines. \\n',\n",
              "   'From the beginning the UN has also emphasized the importance of science, technology and innovation \\nin achieving the 2030 Agenda for Sustainable Development, and through its Technology Facilitation \\nMechanism it is working to improve multi-stakeholder cooperation to achieve SDGs via such methods. \\nIn 2018, the  UN Secretary-General convened a High-level Panel on Digital Cooperation  to advance \\nproposals to strengthen cooperation in the digital space among governments, the private sector, civil \\nsociety, international organizations, academic institutions, the technical community and other relevant \\nstakeholders. The report by this High-level Panel recommended to promote an inclusive digital economy \\nand society, digital public goods, digital inclusion, improving digital capacity, establishing digital human \\nrights, responsible applications of AI, digital trust and security and global digital cooperation. \\n',\n",
              "   'Based on these recommendations and realizing the importance of informed policies and decision-making \\nin the implementation of the SDGs, CBAS supports the idea of digital public goods particularly within \\nthe earth science information domain. Digital public goods are generally defined as open-source software, \\nopen data, open artificial intelligence models, open standards, and open content. CBAS holds the belief \\nthat information generated on air, water, ecosystems, and biodiversity etc. are information that should \\nbe  publicly  accessible  for  awareness,  knowledge,  and  research  to  encourage  innovative  solutions  to \\nglobal and regional challenges, which are much in line with the UNEP efforts to promote environment \\ndata as digital public goods. Therefore, CBAS proposes the idea to develop a mechanism for nurturing, \\nidentifying, evaluating and standardizing new and existing digital public goods relevant to the SDG \\nindicator framework, with the aim to continually upgrade to the latest and most precise methods, models, \\ndata products and datasets to improve global SDG monitoring, to facilitate filling in existing data gaps, \\nand to create opportunities to improve global scientific and technical capacities.    \\n',\n",
              "   '   \\n',\n",
              "   '2. Digital Public Goods for SDG Indicators\\n',\n",
              "   'The  global  SDG  indicator  framework  provides  a  foundation  for  quantifying  SDG  progress  through \\nmonitoring  social,  economic,  and  environmental  dimensions,  as  well  as  a  means  to  demonstrate \\ninterdependency and interlinkages among these various dimensions of sustainability. These indicators \\nprovide  important  means  to  inform  national  scale  policies,  support  development  of  implementation \\nstrategies  and  allocation  of  resources.  Unfortunately,  the  lack  of  qualified  and  timely  datasets  and \\nmethodologies hinders optimistic expectations, particularly due to the added complexities of uneven \\n',\n",
              "   '02\\n']],\n",
              " 'Page_4': [['image',\n",
              "   'development,  capacity  and  capability  challenges  between  different  regions  and  countries.  Big  data \\nresources, development and improving the accessibility of cloud and high-speed computation resources, \\nincluding rapid development of earth observation infrastructure by both private and public organizations, \\nprovide  new  opportunities  to  mitigate  these  data  gaps  and  provide  macro,  dynamic  and  objective \\nmonitoring of land, ocean, atmosphere and human activities. \\n',\n",
              "   'The Digital Public Good Alliance (DPGA)6 has made significant contributions in promoting the concept \\nof Digital Public Goods and their accessibility. As a broad multi-stakeholder alliance, it has established \\na platform for sharing digital public goods. They have defined a clear set of 9 indicators as standards7 \\nfor 5 categories of Digital Public Goods, including Open AI Model, Open Content, Open Data, Open \\nSoftware, and Open Standards. These indicators provide a sound intellectual and functional foundation to \\npromote open science and improve quality and accessibility of Digital Public Goods. These diverse sets of \\ngoals specific to Digital Public Goods available through the DPGA are very useful at organizational and \\ninstitutional scales for implementation and facilitation of sustainability projects. However, they may or \\nmay not always be useful in policy development processes, administrative oversight at different level of \\ngovernance or international comparisons on progress and level of sustainability simply due to difference \\nin choices of digital public goods and standards adopted. \\n',\n",
              "   'Considering the present progress and development of innovative Digital Public Goods, the growing role \\nof big data and the constant improvement of earth observation platforms and technologies, there is a good \\nopportunity to promote innovative ideas, new methods, and useful technologies in monitoring the SDG \\nframework. With the upcoming Summit of the Future and the Digital Compact in 2023, there is also an \\nopportunity to introduce a program that can help to select and/or update existing sets of Digital Public \\nGoods, derived from or developed using innovative data sources and methods, or promote development of \\nmore specific sets of digital products based on the principles and standards established through the DPGA \\nto help progress multi-scale monitoring of SDGs around the world.\\n',\n",
              "   'Working toward these ambitious goals, CBAS initiated a process of consultation to seek expert advice \\non the idea of a global project working to improve development, recognition, visibility, and accessibility \\nof Digital Public Goods for the SDGs to improve global evaluation and assessment of SDG indicators. \\nThe core concept is to develop Digital Public Goods for SDGs that ensure access and availability of data, \\ndata services, data products models, digital resources, and information necessary to evaluate and monitor \\nSDG indicators. This will help to ensure that digital resources relevant to monitoring SDGs are regularly \\nupdated to incorporate rapid developments in science and technology and to ensure that they remain \\naccessible around the world to support information, science-driven policy, and decision support systems. \\n',\n",
              "   '6 Digital Public Goods Alliance (https://digitalpublicgoods.net/)\\n7 DPGA Standards (https://digitalpublicgoods.net/standard/)\\n',\n",
              "   '03\\n'],\n",
              "  ['image',\n",
              "   ['HJIQIJ+TimesNewRomanPSMT', 10.0],\n",
              "   ['HJIQIJ+TimesNewRomanPSMT',\n",
              "    5.830000000000041,\n",
              "    9.999999999999943,\n",
              "    10.0,\n",
              "    'IAZBWH+TimesNewRomanPSMT'],\n",
              "   ['IAZBWH+TimesNewRomanPSMT', 'HJIQIJ+TimesNewRomanPSMT', 10.0],\n",
              "   ['HJIQIJ+TimesNewRomanPSMT', 10.0],\n",
              "   ['HJIQIJ+TimesNewRomanPSMT', 5.247, 9.0],\n",
              "   ['EMYDSP+TimesNewRomanPS-BoldMT', 12.0]],\n",
              "  ['\\x0c'],\n",
              "  [],\n",
              "  ['\\x0c',\n",
              "   'development,  capacity  and  capability  challenges  between  different  regions  and  countries.  Big  data \\nresources, development and improving the accessibility of cloud and high-speed computation resources, \\nincluding rapid development of earth observation infrastructure by both private and public organizations, \\nprovide  new  opportunities  to  mitigate  these  data  gaps  and  provide  macro,  dynamic  and  objective \\nmonitoring of land, ocean, atmosphere and human activities. \\n',\n",
              "   'The Digital Public Good Alliance (DPGA)6 has made significant contributions in promoting the concept \\nof Digital Public Goods and their accessibility. As a broad multi-stakeholder alliance, it has established \\na platform for sharing digital public goods. They have defined a clear set of 9 indicators as standards7 \\nfor 5 categories of Digital Public Goods, including Open AI Model, Open Content, Open Data, Open \\nSoftware, and Open Standards. These indicators provide a sound intellectual and functional foundation to \\npromote open science and improve quality and accessibility of Digital Public Goods. These diverse sets of \\ngoals specific to Digital Public Goods available through the DPGA are very useful at organizational and \\ninstitutional scales for implementation and facilitation of sustainability projects. However, they may or \\nmay not always be useful in policy development processes, administrative oversight at different level of \\ngovernance or international comparisons on progress and level of sustainability simply due to difference \\nin choices of digital public goods and standards adopted. \\n',\n",
              "   'Considering the present progress and development of innovative Digital Public Goods, the growing role \\nof big data and the constant improvement of earth observation platforms and technologies, there is a good \\nopportunity to promote innovative ideas, new methods, and useful technologies in monitoring the SDG \\nframework. With the upcoming Summit of the Future and the Digital Compact in 2023, there is also an \\nopportunity to introduce a program that can help to select and/or update existing sets of Digital Public \\nGoods, derived from or developed using innovative data sources and methods, or promote development of \\nmore specific sets of digital products based on the principles and standards established through the DPGA \\nto help progress multi-scale monitoring of SDGs around the world.\\n',\n",
              "   'Working toward these ambitious goals, CBAS initiated a process of consultation to seek expert advice \\non the idea of a global project working to improve development, recognition, visibility, and accessibility \\nof Digital Public Goods for the SDGs to improve global evaluation and assessment of SDG indicators. \\nThe core concept is to develop Digital Public Goods for SDGs that ensure access and availability of data, \\ndata services, data products models, digital resources, and information necessary to evaluate and monitor \\nSDG indicators. This will help to ensure that digital resources relevant to monitoring SDGs are regularly \\nupdated to incorporate rapid developments in science and technology and to ensure that they remain \\naccessible around the world to support information, science-driven policy, and decision support systems. \\n',\n",
              "   '6 Digital Public Goods Alliance (https://digitalpublicgoods.net/)\\n7 DPGA Standards (https://digitalpublicgoods.net/standard/)\\n',\n",
              "   '03\\n']],\n",
              " 'Page_5': [['image',\n",
              "   '3. International Expert Survey on Digital Public Goods for \\nSDG Indicators\\n',\n",
              "   'To develop a preliminary framework and to benefit from a diverse range of expertise from around the \\nworld, CBAS adopted the method of a consultative survey with the goal to shape a broad conceptual \\nframework  based  on  the  experiences  of  experts  working  in  international  initiatives,  projects,  and \\norganizations to help identify opportunities and challenges in the conception of digital public goods \\nfor SDGs, summarized in Section 2. The survey invited the experts to share their opinions and ideas on \\nthe viability of this concept, their suggestions on core principles and key actions necessary to develop \\nthis proposed framework, existing resources relevant to help realize and drive this process and likely \\nchallenges expected in the realization of this international framework. \\n',\n",
              "   'A question-based survey was designed and shared with a large network of international experts, which \\nforms the basis of the concepts and opinions provided in this report. Experts were encouraged to provide \\ntheir direct opinions to the survey questions and provide a response from their expert perspective and \\nexperiences. Experts were welcome to share their opinion in detail and elaborate on topics coinciding with \\ntheir interests and were encouraged to share practical opinions in their responses to the survey questions \\n',\n",
              "   'The following sections synthesize and collate the ideas discussed in a wide range of responses received \\nfrom different experts and present a preliminary concept of a community driven approach to develop \\nDigital Public Goods for the SDG indicators conforming to the core principles identified within the \\nresponses of the experts. Section 4 collates the opinions of experts on the proposed concept and highlights \\nexisting resources relevant to developing digital public goods for SDG indicators. Section 5 compiles the \\ncore principles and relevant key actions suggested by experts. Section 6 discusses the challenges identified \\nand proposes a framework inspired from the ideas and opinions collected from the experts. \\n',\n",
              "   'image',\n",
              "   ' \\n',\n",
              "   'Fig 01- Geographic scope of the survey\\n',\n",
              "   '04\\n'],\n",
              "  ['image',\n",
              "   [17.0, 'EMYDSP+TimesNewRomanPS-BoldMT'],\n",
              "   ['IAZBWH+TimesNewRomanPSMT',\n",
              "    'HJIQIJ+TimesNewRomanPSMT',\n",
              "    10.0,\n",
              "    9.999999999999943],\n",
              "   ['HJIQIJ+TimesNewRomanPSMT', 10.0],\n",
              "   ['IAZBWH+TimesNewRomanPSMT', 'HJIQIJ+TimesNewRomanPSMT', 10.0],\n",
              "   'image',\n",
              "   [],\n",
              "   [10.0, 'ZFFUAZ+TimesNewRomanPS-ItalicMT'],\n",
              "   ['EMYDSP+TimesNewRomanPS-BoldMT', 12.0]],\n",
              "  ['\\x0c', ' \\n\\x0c'],\n",
              "  [],\n",
              "  ['\\x0c',\n",
              "   '3. International Expert Survey on Digital Public Goods for \\nSDG Indicators\\n',\n",
              "   'To develop a preliminary framework and to benefit from a diverse range of expertise from around the \\nworld, CBAS adopted the method of a consultative survey with the goal to shape a broad conceptual \\nframework  based  on  the  experiences  of  experts  working  in  international  initiatives,  projects,  and \\norganizations to help identify opportunities and challenges in the conception of digital public goods \\nfor SDGs, summarized in Section 2. The survey invited the experts to share their opinions and ideas on \\nthe viability of this concept, their suggestions on core principles and key actions necessary to develop \\nthis proposed framework, existing resources relevant to help realize and drive this process and likely \\nchallenges expected in the realization of this international framework. \\n',\n",
              "   'A question-based survey was designed and shared with a large network of international experts, which \\nforms the basis of the concepts and opinions provided in this report. Experts were encouraged to provide \\ntheir direct opinions to the survey questions and provide a response from their expert perspective and \\nexperiences. Experts were welcome to share their opinion in detail and elaborate on topics coinciding with \\ntheir interests and were encouraged to share practical opinions in their responses to the survey questions \\n',\n",
              "   'The following sections synthesize and collate the ideas discussed in a wide range of responses received \\nfrom different experts and present a preliminary concept of a community driven approach to develop \\nDigital Public Goods for the SDG indicators conforming to the core principles identified within the \\nresponses of the experts. Section 4 collates the opinions of experts on the proposed concept and highlights \\nexisting resources relevant to developing digital public goods for SDG indicators. Section 5 compiles the \\ncore principles and relevant key actions suggested by experts. Section 6 discusses the challenges identified \\nand proposes a framework inspired from the ideas and opinions collected from the experts. \\n',\n",
              "   ' \\n\\x0c',\n",
              "   ' \\n',\n",
              "   'Fig 01- Geographic scope of the survey\\n',\n",
              "   '04\\n']],\n",
              " 'Page_6': [['image',\n",
              "   '4. Existing Opportunities and Resources on Digital Public \\nGoods for Sustainable Development \\n',\n",
              "   'All of the international experts consulted during this process predominantly agreed in principle with the \\nvalidity of the premise that Digital Public Goods can and will help the achievement of SDGs. However, \\nit was broadly pointed out that it is not unconditional and guaranteed. It was highlighted that concepts, \\ninitiatives, experiences, organizations, cooperation, and assistances are necessary to ensure that digital \\npublic  goods  are  properly  identified  and  assessed,  transformed  into  a  common  standard  and  made \\naccessible for wider dissemination for SDG purposes. The importance of political will and support and \\nallocation of adequate finances were also stated to be necessary for successful deployment of digital \\npublic goods for SDGs implementation. Ensuring multi-stakeholder commitment and promoting solidarity \\nthrough a well-managed cooperation were also considered to be important to ensure continued support for \\na global program on development of digital public goods for SDGs  \\n',\n",
              "   'There were several important resources highlighted to be relevant to SDG digital public goods. Due to the \\nlocation-based attributes of SDG targets and their respective indicators, earth observation and geographic \\ninformation data with their respective software, models, standards and technologies were pointed out \\nto be an important digital resource for rapid implementation of SDGs, globally, regionally and locally. \\nEarth  observation  big  data,  or  Big  Earth  Data,  were  also  pointed  out  to  be  inevitable  references  for \\ncontext in SDGs necessary to enable professional and political decision-making processes towards their \\nimplementation.\\n',\n",
              "   ' \\n',\n",
              "   'image',\n",
              "   'Fig 2: Important digital resources and technologies highlighted in survey to be required as digital public \\ngoods to facilitate rapid implementation of SDGs\\n',\n",
              "   '05\\n'],\n",
              "  ['image',\n",
              "   [17.0, 'EMYDSP+TimesNewRomanPS-BoldMT'],\n",
              "   ['HJIQIJ+TimesNewRomanPSMT', 10.0, 9.999999999999943],\n",
              "   ['HJIQIJ+TimesNewRomanPSMT', 10.0],\n",
              "   [],\n",
              "   'image',\n",
              "   [10.0, 'ZFFUAZ+TimesNewRomanPS-ItalicMT'],\n",
              "   ['EMYDSP+TimesNewRomanPS-BoldMT', 12.0]],\n",
              "  ['\\x0c',\n",
              "   'capacity development\\ntime series data FAIR principles\\nopen software\\nbig data ; :\\nOpen models Privacy and security\\n\\nground observation data\\n\\nremote sensing\\nopen data\\n\\nGIs digital models\\nopen method - .\\ndigital infrastructure\\n\\nprecision computing\\n| open science\\n\\ncloud computing\\n\\ndata fusion\\ndata standardyinancial resources\\n\\ndigital data product\\n\\x0c'],\n",
              "  [],\n",
              "  ['\\x0c',\n",
              "   '4. Existing Opportunities and Resources on Digital Public \\nGoods for Sustainable Development \\n',\n",
              "   'All of the international experts consulted during this process predominantly agreed in principle with the \\nvalidity of the premise that Digital Public Goods can and will help the achievement of SDGs. However, \\nit was broadly pointed out that it is not unconditional and guaranteed. It was highlighted that concepts, \\ninitiatives, experiences, organizations, cooperation, and assistances are necessary to ensure that digital \\npublic  goods  are  properly  identified  and  assessed,  transformed  into  a  common  standard  and  made \\naccessible for wider dissemination for SDG purposes. The importance of political will and support and \\nallocation of adequate finances were also stated to be necessary for successful deployment of digital \\npublic goods for SDGs implementation. Ensuring multi-stakeholder commitment and promoting solidarity \\nthrough a well-managed cooperation were also considered to be important to ensure continued support for \\na global program on development of digital public goods for SDGs  \\n',\n",
              "   'There were several important resources highlighted to be relevant to SDG digital public goods. Due to the \\nlocation-based attributes of SDG targets and their respective indicators, earth observation and geographic \\ninformation data with their respective software, models, standards and technologies were pointed out \\nto be an important digital resource for rapid implementation of SDGs, globally, regionally and locally. \\nEarth  observation  big  data,  or  Big  Earth  Data,  were  also  pointed  out  to  be  inevitable  references  for \\ncontext in SDGs necessary to enable professional and political decision-making processes towards their \\nimplementation.\\n',\n",
              "   ' \\n',\n",
              "   'capacity development\\ntime series data FAIR principles\\nopen software\\nbig data ; :\\nOpen models Privacy and security\\n\\nground observation data\\n\\nremote sensing\\nopen data\\n\\nGIs digital models\\nopen method - .\\ndigital infrastructure\\n\\nprecision computing\\n| open science\\n\\ncloud computing\\n\\ndata fusion\\ndata standardyinancial resources\\n\\ndigital data product\\n\\x0c',\n",
              "   'Fig 2: Important digital resources and technologies highlighted in survey to be required as digital public \\ngoods to facilitate rapid implementation of SDGs\\n',\n",
              "   '05\\n']],\n",
              " 'Page_7': [['image',\n",
              "   'Relevance of mobile data in mapping human activity was suggested to be an important data resource \\ndue  to  the  high  volume  of  mobile  devices  in  use  throughout  the  world. As  suggested  by  one  of  the \\nrespondents, science is now big data centric. Therefore, big data, AI models and several iterations of \\nthese resources and methods are widely considered to be an important resource that can fuel development \\nof digital public goods. Additionally ground observation data and data from modelling experiments, in \\nparticular for processes on land, atmosphere and oceans using deep learning techniques, were proposed to \\nbe key information sources for decision-making and management-related applications. \\n',\n",
              "   'Overall, there was strong support for  open  data, open databases, open data  models and  open-source \\nsoftware. FAIR principles8 of findable, accessible, interoperable, and reusable data also had strong support \\namong respondents. Data and science infrastructure, such as data cube and high-performance, computing \\nresources, were considered to be important digital resources and technologies required to develop high \\nquality digital public goods to facilitate the rapid implementation of SDGs globally. Several respondents \\nalso highlighted  the importance of multi-source data and data interoperability as important  methods \\nto  improve  digital  resources  for  SDGs  globally  to  be  complimented  with  open  software  to  promote \\ninnovation. \\n',\n",
              "   'The most important aspect highlighted towards the success of any digital public goods initiative was \\npredicated on the will to take action. For example, it was suggested by some respondents that the level \\nof access, available tools and user-skills will eventually determine the effectiveness of any digital public \\ngoods initiative. Similarly, allocation of financial resources was also considered to be a critical limitation \\nin this direction. It was suggested that broadly speaking the digital technologies and resources required \\nto facilitate development of digital public goods are well-known, yet financing, limited data sharing and \\naccess to modeling infrastructure have limited the pace of progress in this direction. Legislations and \\ngeo-political and socio-economic and cultural challenges also hinder progress. Similarly, it was pointed \\nout in some responses that isolated actions have produced duplication at the cost of time and resources. \\nTherefore, coordinating efforts across administrative boundaries was considered to be highly desirable. \\nWith this in mind, the suggestion to improve the capacity of developing countries seems relevant to \\naddress multinational and coordinative challenges, in particular, investments to improve knowledge and \\ncapacity towards multi-source data acquisition, analytical tools and models will facilitate this process. \\n',\n",
              "   '5. Core Principles and Key Actions \\n',\n",
              "   'The  experts  identified  several  principles  with  a  broad  range  of  key  actions  in  their  responses. The \\nsuggestions from experts advised to ensure inclusivity, quality, adoption, development and innovation \\nin the development and utility of digital public goods for SDG indicators. Principle overlaps between \\ndifferent  experts  broadly  suggested  to  ensure  that  the  information  should  be  publicly  accessible  to \\npromote awareness, knowledge, and research and to encourage innovative solutions to global and regional \\n',\n",
              "   '8 Wilkinson, M., Dumontier, M., Aalbersberg, I. et al. The FAIR Guiding Principles for scientific data management \\nand stewardship. Sci Data 3, 160018 (2016). https://doi.org/10.1038/sdata.2016.18\\n',\n",
              "   '6\\n'],\n",
              "  ['image',\n",
              "   ['HJIQIJ+TimesNewRomanPSMT', 10.0],\n",
              "   ['HJIQIJ+TimesNewRomanPSMT',\n",
              "    5.830000000000041,\n",
              "    9.999999999999943,\n",
              "    10.0,\n",
              "    'IAZBWH+TimesNewRomanPSMT'],\n",
              "   ['IAZBWH+TimesNewRomanPSMT', 'HJIQIJ+TimesNewRomanPSMT', 10.0],\n",
              "   [17.0, 'EMYDSP+TimesNewRomanPS-BoldMT'],\n",
              "   ['HJIQIJ+TimesNewRomanPSMT', 10.0],\n",
              "   ['IAZBWH+TimesNewRomanPSMT', 'HJIQIJ+TimesNewRomanPSMT', 5.247, 9.0],\n",
              "   ['EMYDSP+TimesNewRomanPS-BoldMT', 12.0]],\n",
              "  ['\\x0c'],\n",
              "  [],\n",
              "  ['\\x0c',\n",
              "   'Relevance of mobile data in mapping human activity was suggested to be an important data resource \\ndue  to  the  high  volume  of  mobile  devices  in  use  throughout  the  world. As  suggested  by  one  of  the \\nrespondents, science is now big data centric. Therefore, big data, AI models and several iterations of \\nthese resources and methods are widely considered to be an important resource that can fuel development \\nof digital public goods. Additionally ground observation data and data from modelling experiments, in \\nparticular for processes on land, atmosphere and oceans using deep learning techniques, were proposed to \\nbe key information sources for decision-making and management-related applications. \\n',\n",
              "   'Overall, there was strong support for  open  data, open databases, open data  models and  open-source \\nsoftware. FAIR principles8 of findable, accessible, interoperable, and reusable data also had strong support \\namong respondents. Data and science infrastructure, such as data cube and high-performance, computing \\nresources, were considered to be important digital resources and technologies required to develop high \\nquality digital public goods to facilitate the rapid implementation of SDGs globally. Several respondents \\nalso highlighted  the importance of multi-source data and data interoperability as important  methods \\nto  improve  digital  resources  for  SDGs  globally  to  be  complimented  with  open  software  to  promote \\ninnovation. \\n',\n",
              "   'The most important aspect highlighted towards the success of any digital public goods initiative was \\npredicated on the will to take action. For example, it was suggested by some respondents that the level \\nof access, available tools and user-skills will eventually determine the effectiveness of any digital public \\ngoods initiative. Similarly, allocation of financial resources was also considered to be a critical limitation \\nin this direction. It was suggested that broadly speaking the digital technologies and resources required \\nto facilitate development of digital public goods are well-known, yet financing, limited data sharing and \\naccess to modeling infrastructure have limited the pace of progress in this direction. Legislations and \\ngeo-political and socio-economic and cultural challenges also hinder progress. Similarly, it was pointed \\nout in some responses that isolated actions have produced duplication at the cost of time and resources. \\nTherefore, coordinating efforts across administrative boundaries was considered to be highly desirable. \\nWith this in mind, the suggestion to improve the capacity of developing countries seems relevant to \\naddress multinational and coordinative challenges, in particular, investments to improve knowledge and \\ncapacity towards multi-source data acquisition, analytical tools and models will facilitate this process. \\n',\n",
              "   '5. Core Principles and Key Actions \\n',\n",
              "   'The  experts  identified  several  principles  with  a  broad  range  of  key  actions  in  their  responses. The \\nsuggestions from experts advised to ensure inclusivity, quality, adoption, development and innovation \\nin the development and utility of digital public goods for SDG indicators. Principle overlaps between \\ndifferent  experts  broadly  suggested  to  ensure  that  the  information  should  be  publicly  accessible  to \\npromote awareness, knowledge, and research and to encourage innovative solutions to global and regional \\n',\n",
              "   '8 Wilkinson, M., Dumontier, M., Aalbersberg, I. et al. The FAIR Guiding Principles for scientific data management \\nand stewardship. Sci Data 3, 160018 (2016). https://doi.org/10.1038/sdata.2016.18\\n',\n",
              "   '6\\n']],\n",
              " 'Page_8': [['image',\n",
              "   'challenges. Secondly, improvement of global scientific and technical capabilities through an open science \\napproach was extensively suggested by different experts in several of the responses received. Table 1 \\nprovides a summarized list of Core Principles with associated Key Actions to facilitate and guide the \\ndevelopment process of proposed digital public goods for SDG indicators. \\n',\n",
              "   'Table 1: Core Principles and Key Actions suggested by experts for developing digital public goods for \\nSDG Indicators\\n',\n",
              "   'table'],\n",
              "  ['image',\n",
              "   ['IAZBWH+TimesNewRomanPSMT', 'HJIQIJ+TimesNewRomanPSMT', 10.0],\n",
              "   ['HJIQIJ+TimesNewRomanPSMT', 10.0],\n",
              "   'table'],\n",
              "  ['\\x0c'],\n",
              "  ['||Core Principles||Key Actions|\\n|None|Universality of science|1.1|None|\\n|None|None|1.2|None|\\n|None|The digital public goods should be scalable|2.1|None|\\n|None|The development process should be inclusive and innovation driven.|3.1|None|\\n|None|None|3.2|None|\\n|None|None|3.3|None|\\n|None|None|3.4|None|\\n|None|None|3.5|None|\\n|None|Availability and accessibility to all without restrictions|4.1|None|\\n|None|None|4.2|None|\\n|None|None|4.3|None|\\n|None|Ensure quality acceptability, impartiality and reproducibility|5.1|None|\\n|None|None|5.2|None|\\n|None|None|5.3|None|\\n|None|None|5.4|None|\\n|None|Enhance training and upskilling across sectors/nations|6.1|None|\\n|None|None|6.2|None|'],\n",
              "  ['\\x0c',\n",
              "   'challenges. Secondly, improvement of global scientific and technical capabilities through an open science \\napproach was extensively suggested by different experts in several of the responses received. Table 1 \\nprovides a summarized list of Core Principles with associated Key Actions to facilitate and guide the \\ndevelopment process of proposed digital public goods for SDG indicators. \\n',\n",
              "   'Table 1: Core Principles and Key Actions suggested by experts for developing digital public goods for \\nSDG Indicators\\n',\n",
              "   '||Core Principles||Key Actions|\\n|None|Universality of science|1.1|None|\\n|None|None|1.2|None|\\n|None|The digital public goods should be scalable|2.1|None|\\n|None|The development process should be inclusive and innovation driven.|3.1|None|\\n|None|None|3.2|None|\\n|None|None|3.3|None|\\n|None|None|3.4|None|\\n|None|None|3.5|None|\\n|None|Availability and accessibility to all without restrictions|4.1|None|\\n|None|None|4.2|None|\\n|None|None|4.3|None|\\n|None|Ensure quality acceptability, impartiality and reproducibility|5.1|None|\\n|None|None|5.2|None|\\n|None|None|5.3|None|\\n|None|None|5.4|None|\\n|None|Enhance training and upskilling across sectors/nations|6.1|None|\\n|None|None|6.2|None|']],\n",
              " 'Page_9': [['image',\n",
              "   '6. A  Community-Driven  Open-Source  Framework  for \\nDigital Public Goods for SDG Indicators\\n',\n",
              "   'Availability, accessibility and literacy about digital tools and resources have improved rapidly during the \\npast decade. Nevertheless, differences in capacity, capability and priorities will likely introduce challenges \\nfor any development process working to produce digital public goods for SDG indicators intended for \\nglobal use. The survey results highlighted that a single program or a single agency is not in the position to \\nfacilitate development of a diverse range of digital public goods necessary for SDG indicators. Therefore, \\nthere is a need for the development of a cooperative framework with a participatory approach that should \\nalso observe the principles of universality of science in accordance with the first core principle identified. \\nBased on the opinions of all international experts that participated in the survey, and considering the key \\nactions 1.1 and 1.2 that promote open science, inclusivity, consultations, joint contributions and shared \\nbenefits, this report suggests a community supported open-source development approach that will help \\nto improve innovation and novelty in methods and processes. Supported by a UN driven recognition \\nprogram, talents from all levels of expertise could be encouraged to participate in this community led \\ndevelopment process. A more detailed, yet tentative process flow of the proposed process is provided in \\nFig 3.\\n',\n",
              "   'image',\n",
              "   ' \\n',\n",
              "   'Fig 3- A proposed community driven open-science process to develop digital public goods for SDG indicators. \\n',\n",
              "   '8\\n'],\n",
              "  ['image',\n",
              "   [17.0, 'EMYDSP+TimesNewRomanPS-BoldMT'],\n",
              "   ['IAZBWH+TimesNewRomanPSMT',\n",
              "    'HJIQIJ+TimesNewRomanPSMT',\n",
              "    10.0,\n",
              "    9.999999999999943],\n",
              "   'image',\n",
              "   [],\n",
              "   [10.0, 'ZFFUAZ+TimesNewRomanPS-ItalicMT'],\n",
              "   ['EMYDSP+TimesNewRomanPS-BoldMT', 12.0]],\n",
              "  ['\\x0c',\n",
              "   'Verification\\n\\nDevelopment\\n\\nL4\\n\\nL3\\n\\nL2\\n\\nL1\\n\\n \\n\\nte) acer oda)\\n\\nAdoption\\n\\nNational igs ge\\na Verification\\n\\nSe tacie-|) ‘bili ;\\n: Compatibility for local implementation\\nei * Core Principle 2\\n\\n24 level of QC/QA\\n\\nSelection of Viable Products\\n\\n(sole\\n\\n* Core Principle 5\\n\\n4\\n\\nWee | 15 level of QC/QA\\n\\nRT) Preliminary Assessment\\n\\n \\n\\n \\n\\n \\n\\n \\n\\n \\n\\n \\n\\n \\n\\n \\n\\n \\n\\n \\n\\n \\n\\n \\n\\n \\n\\n \\n\\nCommunity Participation* \"nile?\\n\\nDevelopers Community\\n\\n* Core Principle 5 °\\n\\n9 * Core Principle 4\\n\\nSupport Systems\\n\\nDatabase of DPG for SDG Indicators\\nDatabase of Projects\\nDatabase of Data Samples\\n\\x0c'],\n",
              "  [],\n",
              "  ['\\x0c',\n",
              "   '6. A  Community-Driven  Open-Source  Framework  for \\nDigital Public Goods for SDG Indicators\\n',\n",
              "   'Availability, accessibility and literacy about digital tools and resources have improved rapidly during the \\npast decade. Nevertheless, differences in capacity, capability and priorities will likely introduce challenges \\nfor any development process working to produce digital public goods for SDG indicators intended for \\nglobal use. The survey results highlighted that a single program or a single agency is not in the position to \\nfacilitate development of a diverse range of digital public goods necessary for SDG indicators. Therefore, \\nthere is a need for the development of a cooperative framework with a participatory approach that should \\nalso observe the principles of universality of science in accordance with the first core principle identified. \\nBased on the opinions of all international experts that participated in the survey, and considering the key \\nactions 1.1 and 1.2 that promote open science, inclusivity, consultations, joint contributions and shared \\nbenefits, this report suggests a community supported open-source development approach that will help \\nto improve innovation and novelty in methods and processes. Supported by a UN driven recognition \\nprogram, talents from all levels of expertise could be encouraged to participate in this community led \\ndevelopment process. A more detailed, yet tentative process flow of the proposed process is provided in \\nFig 3.\\n',\n",
              "   'Verification\\n\\nDevelopment\\n\\nL4\\n\\nL3\\n\\nL2\\n\\nL1\\n\\n \\n\\nte) acer oda)\\n\\nAdoption\\n\\nNational igs ge\\na Verification\\n\\nSe tacie-|) ‘bili ;\\n: Compatibility for local implementation\\nei * Core Principle 2\\n\\n24 level of QC/QA\\n\\nSelection of Viable Products\\n\\n(sole\\n\\n* Core Principle 5\\n\\n4\\n\\nWee | 15 level of QC/QA\\n\\nRT) Preliminary Assessment\\n\\n \\n\\n \\n\\n \\n\\n \\n\\n \\n\\n \\n\\n \\n\\n \\n\\n \\n\\n \\n\\n \\n\\n \\n\\n \\n\\n \\n\\nCommunity Participation* \"nile?\\n\\nDevelopers Community\\n\\n* Core Principle 5 °\\n\\n9 * Core Principle 4\\n\\nSupport Systems\\n\\nDatabase of DPG for SDG Indicators\\nDatabase of Projects\\nDatabase of Data Samples\\n\\x0c',\n",
              "   ' \\n',\n",
              "   'Fig 3- A proposed community driven open-science process to develop digital public goods for SDG indicators. \\n',\n",
              "   '8\\n']],\n",
              " 'Page_10': [['image',\n",
              "   '6.1. Organizational and Co-ordinational Challenges\\n',\n",
              "   'A community supported open-source development approach is quite an attractive proposition as it will \\nprovide the necessary bottom-up approach suggested in Key Actions 2.1 (Core Principle 2) and help to \\nencourage highly talented data scientists, programmers, and digital technology experts to voluntarily \\nparticipate  in  devising  novels  solutions  in-line  with  Core  Principle  3.  However,  it  will  be  a  highly \\nchallenging undertaking to organize and streamline these efforts. In the absence of a designated team, \\nopen-source development environment will lead to competing methods and products which will require \\nefficient quality assurance and control mechanisms (QA/QC) (Core Principle 5). Similarly, a community-\\nbased development approach will impact efficiency in the development process, particularly if voluntary \\nmembers are involved alongside research and academic institutions, who may not be able to deliver on \\ndesired targets and deadlines.\\n',\n",
              "   'Some of these organizational challenges can be resolved by appointing designated product leaders from \\nthe SDG indicator custodian agencies for separate classes of the digital public goods as identified by the \\nDPGA (Models, Content, Data, Software, and Standards) working as focal persons for community inputs, \\nwith a clear understanding of the SDG indicator at hand and auditings requirements, whereby they might \\nhelp to organize the community development process as per Key Action 3.2. The product leaders can \\nprovide relevant guidance to community developers and serve as a preliminary QA/QC control.\\n',\n",
              "   'Subsequently, a “Committee of Experts” can be established to evaluate different digital products received \\nand act as the next level of QA/QC control in line with Key actions 5.1 and 5.2. The Committee of \\nExperts can select a list of viable products to be tested and verified by National Statistical Offices (NSO) \\nfor compliance and applicability at the next level (Fig. 3) and can also help to achieve Key Actions 5.3. \\nAfter verification from NSOs the product can be adopted through a designated political forum for SDG \\nevaluation reporting purposes by interested countries and organizations.\\n',\n",
              "   'In the development process discussed above, there are chances of duplication of efforts. Acting on Core \\nPrinciple 4 (Key actions 4.1, 4.2, and 4.3) shall provide the necessary resources and information to avoid \\nthis duplication, and thereby a descriptive, openly accessible catalogue of digital public goods efforts or \\nongoing efforts should help prospective developers to opt and develop new ideas and avoid duplication of \\nexisting efforts.      \\n',\n",
              "   '6.2. Data and Standardization Challenges\\n',\n",
              "   'SDG indicators are quantitative assessments for economic, environmental and social progress. Developing \\nany digital public goods related to SDG indicators will therefore require access to relevant datasets in \\naccordance with Core Principle 4. As previously noted, several SDGs indicators are still lacking sufficient \\ndata. Additionally, data sharing with a community supported open-source development approach may \\nprevent different statistical agencies from openly sharing necessary data due to information security, \\nprivacy concerns or national and commercial legal restrictions. For software and model development tasks \\nspecifically, this challenge can be resolved by developing publicly accessible standardized datasets for \\ndifferent indicators for testing and performance evaluation of new methods, which is a standard practice \\nwithin data science community. The best performing models and methods using these standard metrics and \\nstandardized dataset can then be used by NSOs according to their circumstances to verify performance for \\n',\n",
              "   '9\\n'],\n",
              "  ['image',\n",
              "   ['EMYDSP+TimesNewRomanPS-BoldMT', 12.0],\n",
              "   ['IAZBWH+TimesNewRomanPSMT', 'HJIQIJ+TimesNewRomanPSMT', 10.0],\n",
              "   ['IAZBWH+TimesNewRomanPSMT', 'HJIQIJ+TimesNewRomanPSMT', 10.0],\n",
              "   ['IAZBWH+TimesNewRomanPSMT', 'HJIQIJ+TimesNewRomanPSMT', 10.0],\n",
              "   ['IAZBWH+TimesNewRomanPSMT', 'HJIQIJ+TimesNewRomanPSMT', 10.0],\n",
              "   ['EMYDSP+TimesNewRomanPS-BoldMT', 12.0],\n",
              "   ['IAZBWH+TimesNewRomanPSMT', 'HJIQIJ+TimesNewRomanPSMT', 10.0],\n",
              "   ['EMYDSP+TimesNewRomanPS-BoldMT', 12.0]],\n",
              "  ['\\x0c'],\n",
              "  [],\n",
              "  ['\\x0c',\n",
              "   '6.1. Organizational and Co-ordinational Challenges\\n',\n",
              "   'A community supported open-source development approach is quite an attractive proposition as it will \\nprovide the necessary bottom-up approach suggested in Key Actions 2.1 (Core Principle 2) and help to \\nencourage highly talented data scientists, programmers, and digital technology experts to voluntarily \\nparticipate  in  devising  novels  solutions  in-line  with  Core  Principle  3.  However,  it  will  be  a  highly \\nchallenging undertaking to organize and streamline these efforts. In the absence of a designated team, \\nopen-source development environment will lead to competing methods and products which will require \\nefficient quality assurance and control mechanisms (QA/QC) (Core Principle 5). Similarly, a community-\\nbased development approach will impact efficiency in the development process, particularly if voluntary \\nmembers are involved alongside research and academic institutions, who may not be able to deliver on \\ndesired targets and deadlines.\\n',\n",
              "   'Some of these organizational challenges can be resolved by appointing designated product leaders from \\nthe SDG indicator custodian agencies for separate classes of the digital public goods as identified by the \\nDPGA (Models, Content, Data, Software, and Standards) working as focal persons for community inputs, \\nwith a clear understanding of the SDG indicator at hand and auditings requirements, whereby they might \\nhelp to organize the community development process as per Key Action 3.2. The product leaders can \\nprovide relevant guidance to community developers and serve as a preliminary QA/QC control.\\n',\n",
              "   'Subsequently, a “Committee of Experts” can be established to evaluate different digital products received \\nand act as the next level of QA/QC control in line with Key actions 5.1 and 5.2. The Committee of \\nExperts can select a list of viable products to be tested and verified by National Statistical Offices (NSO) \\nfor compliance and applicability at the next level (Fig. 3) and can also help to achieve Key Actions 5.3. \\nAfter verification from NSOs the product can be adopted through a designated political forum for SDG \\nevaluation reporting purposes by interested countries and organizations.\\n',\n",
              "   'In the development process discussed above, there are chances of duplication of efforts. Acting on Core \\nPrinciple 4 (Key actions 4.1, 4.2, and 4.3) shall provide the necessary resources and information to avoid \\nthis duplication, and thereby a descriptive, openly accessible catalogue of digital public goods efforts or \\nongoing efforts should help prospective developers to opt and develop new ideas and avoid duplication of \\nexisting efforts.      \\n',\n",
              "   '6.2. Data and Standardization Challenges\\n',\n",
              "   'SDG indicators are quantitative assessments for economic, environmental and social progress. Developing \\nany digital public goods related to SDG indicators will therefore require access to relevant datasets in \\naccordance with Core Principle 4. As previously noted, several SDGs indicators are still lacking sufficient \\ndata. Additionally, data sharing with a community supported open-source development approach may \\nprevent different statistical agencies from openly sharing necessary data due to information security, \\nprivacy concerns or national and commercial legal restrictions. For software and model development tasks \\nspecifically, this challenge can be resolved by developing publicly accessible standardized datasets for \\ndifferent indicators for testing and performance evaluation of new methods, which is a standard practice \\nwithin data science community. The best performing models and methods using these standard metrics and \\nstandardized dataset can then be used by NSOs according to their circumstances to verify performance for \\n',\n",
              "   '9\\n']],\n",
              " 'Page_11': [['image',\n",
              "   'relevant scales, which will also help to achieve Core Principle 2 (Fig. 3, Lv3). Alternatively, encouraging \\nthe use of publicly available resources, especially remote sensing data, can be beneficial to mitigate data \\naccess issues and develop globally usable multi-scale products. \\n',\n",
              "   'Several experts highlighted the importance of data standardization and interoperability. This is because \\na diverse range of formats and systems are being used for data collection by different countries due \\nto differences in purpose by different institutions in these countries. Furthermore, differences in data \\nframeworks  implemented  and  varying  capacities  between  different  public  and  private  organizations \\nresponsible to collect data relevant to SDG indicators complicates the standardization and interoperability \\nprocesses, especially for a community driven process as proposed here. The open-source development \\nprocess highlighted here would greatly benefit if the UN can initiate a database development program \\ncollecting  samples  of  data  preserving  the  formats  and  structure  of  relevant  datasets  from  different \\ncountries and systems on SDG indicators from different countries. This will enable the community level \\ndevelopers and allow the data science community to understand the structure and formats of a diverse \\nrange of datasets to develop programs and processes to create standard datasets, fill in data gaps from \\nalternative data sources and to devise interoperability and standardization solutions. These actions will \\nalso help to support the objectives of Key action 5.4. \\n',\n",
              "   '6.3. Capacity, Political and Acceptability challenges \\n',\n",
              "   \"Several of the experts also stressed the need to build the capacity of all countries, particularly the least \\ndeveloped countries, landlocked developing countries and small island developing states. It was suggested \\nthat regional and social technical constraints and differences can reduce the capacity to develop and adopt \\ndigital public goods for SDG indicators. The open-source digital approach supplemented with human \\nresource development programs supported by international organizations and the UN will help to rapidly \\nimprove the technical capacity of relevant organizations in different countries. This, however, has to be \\norganized in parallel to the digital infrastructure and digital accessibility development programs being \\nconsidered under the UN Secretary-Generals' Roadmap to Digital Cooperation. Additionally, all digital \\npublic goods approved at Lv 2 (Fig. 3) can be supported by community developed user-oriented training \\nprogram for educational and capacity development resources to support Core Principle 6.  \\n\",\n",
              "   'Similarly, other important challenges highlighted by different experts in the survey included overcoming \\nlegislative and policy hurdles to improve cooperation between different countries, which are necessary to \\nbe addressed by different stakeholders. The STI Forum is an important platform to support this process \\nand improve the accessibility of technology by developing nations to improve their capacity towards \\ndigital development. The political, social, and governance challenges were also highlighted specifically as \\nthe major challenge to build institutional confidence on the development of open-source projects. Efforts \\non the political level (Fig. 3, Lv4) can help to streamline this process. Furthermore, through open-source \\ncommunity supported projects there will be a number of implementation choices available to be adopted. \\nPilot studies and demonstrative case studies by NSOs on proposed solutions can help to support the \\nPolitical Forum to reach an informed decision on the best method(s) to implement with consensus (Key \\nAction 5.3).\\n',\n",
              "   '10\\n'],\n",
              "  ['image',\n",
              "   ['IAZBWH+TimesNewRomanPSMT', 'HJIQIJ+TimesNewRomanPSMT', 10.0],\n",
              "   ['IAZBWH+TimesNewRomanPSMT',\n",
              "    'HJIQIJ+TimesNewRomanPSMT',\n",
              "    10.0,\n",
              "    9.999999999999943],\n",
              "   ['EMYDSP+TimesNewRomanPS-BoldMT', 12.0],\n",
              "   ['IAZBWH+TimesNewRomanPSMT', 'HJIQIJ+TimesNewRomanPSMT', 10.0],\n",
              "   ['IAZBWH+TimesNewRomanPSMT', 'HJIQIJ+TimesNewRomanPSMT', 10.0],\n",
              "   ['EMYDSP+TimesNewRomanPS-BoldMT', 12.0]],\n",
              "  ['\\x0c'],\n",
              "  [],\n",
              "  ['\\x0c',\n",
              "   'relevant scales, which will also help to achieve Core Principle 2 (Fig. 3, Lv3). Alternatively, encouraging \\nthe use of publicly available resources, especially remote sensing data, can be beneficial to mitigate data \\naccess issues and develop globally usable multi-scale products. \\n',\n",
              "   'Several experts highlighted the importance of data standardization and interoperability. This is because \\na diverse range of formats and systems are being used for data collection by different countries due \\nto differences in purpose by different institutions in these countries. Furthermore, differences in data \\nframeworks  implemented  and  varying  capacities  between  different  public  and  private  organizations \\nresponsible to collect data relevant to SDG indicators complicates the standardization and interoperability \\nprocesses, especially for a community driven process as proposed here. The open-source development \\nprocess highlighted here would greatly benefit if the UN can initiate a database development program \\ncollecting  samples  of  data  preserving  the  formats  and  structure  of  relevant  datasets  from  different \\ncountries and systems on SDG indicators from different countries. This will enable the community level \\ndevelopers and allow the data science community to understand the structure and formats of a diverse \\nrange of datasets to develop programs and processes to create standard datasets, fill in data gaps from \\nalternative data sources and to devise interoperability and standardization solutions. These actions will \\nalso help to support the objectives of Key action 5.4. \\n',\n",
              "   '6.3. Capacity, Political and Acceptability challenges \\n',\n",
              "   \"Several of the experts also stressed the need to build the capacity of all countries, particularly the least \\ndeveloped countries, landlocked developing countries and small island developing states. It was suggested \\nthat regional and social technical constraints and differences can reduce the capacity to develop and adopt \\ndigital public goods for SDG indicators. The open-source digital approach supplemented with human \\nresource development programs supported by international organizations and the UN will help to rapidly \\nimprove the technical capacity of relevant organizations in different countries. This, however, has to be \\norganized in parallel to the digital infrastructure and digital accessibility development programs being \\nconsidered under the UN Secretary-Generals' Roadmap to Digital Cooperation. Additionally, all digital \\npublic goods approved at Lv 2 (Fig. 3) can be supported by community developed user-oriented training \\nprogram for educational and capacity development resources to support Core Principle 6.  \\n\",\n",
              "   'Similarly, other important challenges highlighted by different experts in the survey included overcoming \\nlegislative and policy hurdles to improve cooperation between different countries, which are necessary to \\nbe addressed by different stakeholders. The STI Forum is an important platform to support this process \\nand improve the accessibility of technology by developing nations to improve their capacity towards \\ndigital development. The political, social, and governance challenges were also highlighted specifically as \\nthe major challenge to build institutional confidence on the development of open-source projects. Efforts \\non the political level (Fig. 3, Lv4) can help to streamline this process. Furthermore, through open-source \\ncommunity supported projects there will be a number of implementation choices available to be adopted. \\nPilot studies and demonstrative case studies by NSOs on proposed solutions can help to support the \\nPolitical Forum to reach an informed decision on the best method(s) to implement with consensus (Key \\nAction 5.3).\\n',\n",
              "   '10\\n']],\n",
              " 'Page_12': [['image',\n",
              "   '7. The Way Forward\\n',\n",
              "   'Globally  rapid  progress  in  science  and  technology  has  been  the  primary  driver  for  unprecedented \\ndevelopment, innovation and progress in human society. They have demonstrated advantages in diverse \\naspects  of  societal,  economic,  cultural  and  environment,  exerting  a  profound  impact  on  our  modern \\ncivilization. In particular digital technologies and applications have experienced extraordinary success at \\nall levels of socio-economic classes around the world in the past few years. \\n',\n",
              "   'The opinions drawn from the expert survey conducted for this report agree that digital public goods hold \\ntremendous potential to facilitate global sustainable development. The experts highlighted big data, AI, \\ngeospatial data and other digital tools and technologies and their utility for a diverse range of applications \\nrelated to natural or human systems. Based on the responses and suggestions this report proposes 6 core \\nprinciples and several key actions necessary for systematic development of digital public goods for SDG \\nindicators. These core principles identified from expert response are still tentative, but a good starting \\npoint to initiate a global dialogue to highlight the concept of digital public goods for SDG indicators, as \\nwell as to refine such principles and develop a consensus to facilitate future actions. The Summit of the \\nFuture and the Digital Compact provide a good opportunity to discuss these concepts and garner global \\nsupport for actions suggested here to achieve the 2030 Agenda. \\n',\n",
              "   'This report also proposes a preliminary process for an open-source development environment for digital \\npublic goods for SDG indicators inspired from the comments and suggestions collected through the expert \\nsurvey. The process aims to inspire innovation at the grass root level by engaging a talented community \\nto contribute their expertise and participate in a community driven movement towards sustainability. The \\nprocess also suggests necessary QA/QC measures and political oversight to ensure multi-stakeholder \\nengagements at national and international levels.  \\n',\n",
              "   'CBAS  is  working  hard  to  develop  and  progress  by  expanding  its  technical  resources,  diversifying  \\ncapacity  and  strengthen  its  systems.  CBAS  invites  all  interested  parties  and  the  UN  to  discuss  the \\nproposed process and welcomes suggestions and comments from international community. CBAS hopes \\nto continue to develop this concept further and improve it with the support of the international community. \\nWe also look forward to coordinating our work with that of other multinational initiatives focusing on \\nthe broad topic of digital public goods for the SDGs and the related challenges of open science, and also \\ncommit to support global efforts towards these aims. \\n',\n",
              "   '8. Acknowledgements\\n',\n",
              "   'The team of authors would like to thank the following experts who participated in the expert survey \\nand contributed to this report with their inspiring thoughts and suggestions regarding the Global Digital \\nCompact and Digital Public Goods as part of the research process in preparation of this report. (List in \\nAlphabetical Order).\\n',\n",
              "   '11\\n'],\n",
              "  ['image',\n",
              "   [17.0, 'EMYDSP+TimesNewRomanPS-BoldMT'],\n",
              "   ['HJIQIJ+TimesNewRomanPSMT', 10.0],\n",
              "   ['IAZBWH+TimesNewRomanPSMT',\n",
              "    'HJIQIJ+TimesNewRomanPSMT',\n",
              "    10.0,\n",
              "    9.999999999999943],\n",
              "   ['IAZBWH+TimesNewRomanPSMT', 'HJIQIJ+TimesNewRomanPSMT', 10.0],\n",
              "   ['IAZBWH+TimesNewRomanPSMT', 'HJIQIJ+TimesNewRomanPSMT', 10.0],\n",
              "   [17.0, 'EMYDSP+TimesNewRomanPS-BoldMT'],\n",
              "   ['HJIQIJ+TimesNewRomanPSMT', 10.0],\n",
              "   ['EMYDSP+TimesNewRomanPS-BoldMT', 12.0]],\n",
              "  ['\\x0c'],\n",
              "  [],\n",
              "  ['\\x0c',\n",
              "   '7. The Way Forward\\n',\n",
              "   'Globally  rapid  progress  in  science  and  technology  has  been  the  primary  driver  for  unprecedented \\ndevelopment, innovation and progress in human society. They have demonstrated advantages in diverse \\naspects  of  societal,  economic,  cultural  and  environment,  exerting  a  profound  impact  on  our  modern \\ncivilization. In particular digital technologies and applications have experienced extraordinary success at \\nall levels of socio-economic classes around the world in the past few years. \\n',\n",
              "   'The opinions drawn from the expert survey conducted for this report agree that digital public goods hold \\ntremendous potential to facilitate global sustainable development. The experts highlighted big data, AI, \\ngeospatial data and other digital tools and technologies and their utility for a diverse range of applications \\nrelated to natural or human systems. Based on the responses and suggestions this report proposes 6 core \\nprinciples and several key actions necessary for systematic development of digital public goods for SDG \\nindicators. These core principles identified from expert response are still tentative, but a good starting \\npoint to initiate a global dialogue to highlight the concept of digital public goods for SDG indicators, as \\nwell as to refine such principles and develop a consensus to facilitate future actions. The Summit of the \\nFuture and the Digital Compact provide a good opportunity to discuss these concepts and garner global \\nsupport for actions suggested here to achieve the 2030 Agenda. \\n',\n",
              "   'This report also proposes a preliminary process for an open-source development environment for digital \\npublic goods for SDG indicators inspired from the comments and suggestions collected through the expert \\nsurvey. The process aims to inspire innovation at the grass root level by engaging a talented community \\nto contribute their expertise and participate in a community driven movement towards sustainability. The \\nprocess also suggests necessary QA/QC measures and political oversight to ensure multi-stakeholder \\nengagements at national and international levels.  \\n',\n",
              "   'CBAS  is  working  hard  to  develop  and  progress  by  expanding  its  technical  resources,  diversifying  \\ncapacity  and  strengthen  its  systems.  CBAS  invites  all  interested  parties  and  the  UN  to  discuss  the \\nproposed process and welcomes suggestions and comments from international community. CBAS hopes \\nto continue to develop this concept further and improve it with the support of the international community. \\nWe also look forward to coordinating our work with that of other multinational initiatives focusing on \\nthe broad topic of digital public goods for the SDGs and the related challenges of open science, and also \\ncommit to support global efforts towards these aims. \\n',\n",
              "   '8. Acknowledgements\\n',\n",
              "   'The team of authors would like to thank the following experts who participated in the expert survey \\nand contributed to this report with their inspiring thoughts and suggestions regarding the Global Digital \\nCompact and Digital Public Goods as part of the research process in preparation of this report. (List in \\nAlphabetical Order).\\n',\n",
              "   '11\\n']],\n",
              " 'Page_13': [['image', 'table'],\n",
              "  ['image', 'table'],\n",
              "  ['\\x0c'],\n",
              "  ['|Sukri Ahmed|UN Food and Agriculture Organization|'],\n",
              "  ['\\x0c', '|Sukri Ahmed|UN Food and Agriculture Organization|']],\n",
              " 'Page_14': [['image',\n",
              "   'Stefano Nativi*\\n',\n",
              "   'National Research Council of Italy\\n',\n",
              "   'table'],\n",
              "  ['image',\n",
              "   ['HJIQIJ+TimesNewRomanPSMT', 9.0],\n",
              "   ['HJIQIJ+TimesNewRomanPSMT', 9.0],\n",
              "   'table'],\n",
              "  ['\\x0c'],\n",
              "  ['|Jessie Pechmann|Humanitarian OpenStreetMap Team|'],\n",
              "  ['\\x0c',\n",
              "   'Stefano Nativi*\\n',\n",
              "   'National Research Council of Italy\\n',\n",
              "   '|Jessie Pechmann|Humanitarian OpenStreetMap Team|']],\n",
              " 'Page_15': [['image', 'image', '2\\n'],\n",
              "  ['image', 'image', ['EMYDSP+TimesNewRomanPS-BoldMT', 12.0]],\n",
              "  ['\\x0c', '\\x0c'],\n",
              "  [],\n",
              "  ['\\x0c', '\\x0c', '2\\n']]}"
            ]
          },
          "metadata": {},
          "execution_count": 16
        }
      ]
    },
    {
      "cell_type": "code",
      "source": [],
      "metadata": {
        "id": "liYETz-Ey2zN"
      },
      "execution_count": null,
      "outputs": []
    }
  ]
}